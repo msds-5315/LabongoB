{
 "cells": [
  {
   "cell_type": "code",
   "execution_count": 1,
   "metadata": {},
   "outputs": [
    {
     "name": "stderr",
     "output_type": "stream",
     "text": [
      "[2024-09-10 22:33:04,710][INFO]: Connecting root@localhost:3306\n",
      "[2024-09-10 22:33:04,724][INFO]: Connected root@localhost:3306\n"
     ]
    }
   ],
   "source": [
    "import datajoint as dj\n",
    "\n",
    "schema = dj.Schema('person')"
   ]
  },
  {
   "cell_type": "code",
   "execution_count": 2,
   "metadata": {},
   "outputs": [],
   "source": [
    "@schema\n",
    "class Title(dj.Lookup):\n",
    "    definition = \"\"\"\n",
    "    title_code  : char(8)\n",
    "    ---\n",
    "    full_title : varchar(120)\n",
    "    \"\"\"\n",
    "    \n",
    "    contents = [\n",
    "        (\"SW-Dev1\", \"Software Developer 1\"),\n",
    "        (\"SW-Dev2\", \"Software Developer 2\"),\n",
    "        (\"SW-Dev3\", \"Software Developer 3\"),\n",
    "        (\"Web-Dev1\", \"Web Developer 1\"),\n",
    "        (\"Web-Dev2\", \"Web Developer 2\"),\n",
    "        (\"Web-Dev3\", \"Web Developer 3\"),\n",
    "        (\"HR-Mgr\", \"Human Resources Manager\")\n",
    "    ]"
   ]
  },
  {
   "cell_type": "code",
   "execution_count": 3,
   "metadata": {},
   "outputs": [
    {
     "data": {
      "text/html": [
       "\n",
       "    \n",
       "    <style type=\"text/css\">\n",
       "        .Table{\n",
       "            border-collapse:collapse;\n",
       "        }\n",
       "        .Table th{\n",
       "            background: #A0A0A0; color: #ffffff; padding:4px; border:#f0e0e0 1px solid;\n",
       "            font-weight: normal; font-family: monospace; font-size: 100%;\n",
       "        }\n",
       "        .Table td{\n",
       "            padding:4px; border:#f0e0e0 1px solid; font-size:100%;\n",
       "        }\n",
       "        .Table tr:nth-child(odd){\n",
       "            background: #ffffff;\n",
       "            color: #000000;\n",
       "        }\n",
       "        .Table tr:nth-child(even){\n",
       "            background: #f3f1ff;\n",
       "            color: #000000;\n",
       "        }\n",
       "        /* Tooltip container */\n",
       "        .djtooltip {\n",
       "        }\n",
       "        /* Tooltip text */\n",
       "        .djtooltip .djtooltiptext {\n",
       "            visibility: hidden;\n",
       "            width: 120px;\n",
       "            background-color: black;\n",
       "            color: #fff;\n",
       "            text-align: center;\n",
       "            padding: 5px 0;\n",
       "            border-radius: 6px;\n",
       "            /* Position the tooltip text - see examples below! */\n",
       "            position: absolute;\n",
       "            z-index: 1;\n",
       "        }\n",
       "        #primary {\n",
       "            font-weight: bold;\n",
       "            color: black;\n",
       "        }\n",
       "        #nonprimary {\n",
       "            font-weight: normal;\n",
       "            color: white;\n",
       "        }\n",
       "\n",
       "        /* Show the tooltip text when you mouse over the tooltip container */\n",
       "        .djtooltip:hover .djtooltiptext {\n",
       "            visibility: visible;\n",
       "        }\n",
       "    </style>\n",
       "    \n",
       "    <b></b>\n",
       "        <div style=\"max-height:1000px;max-width:1500px;overflow:auto;\">\n",
       "        <table border=\"1\" class=\"Table\">\n",
       "            <thead> <tr style=\"text-align: right;\"> <th> <div class=\"djtooltip\">\n",
       "                            <p id=\"primary\">title_code</p>\n",
       "                            <span class=\"djtooltiptext\"></span>\n",
       "                        </div></th><th><div class=\"djtooltip\">\n",
       "                            <p id=\"nonprimary\">full_title</p>\n",
       "                            <span class=\"djtooltiptext\"></span>\n",
       "                        </div> </th> </tr> </thead>\n",
       "            <tbody> <tr> <td>HR-Mgr</td>\n",
       "<td>Human Resources Manager</td></tr><tr><td>SW-Dev1</td>\n",
       "<td>Software Developer 1</td></tr><tr><td>SW-Dev2</td>\n",
       "<td>Software Developer 2</td></tr><tr><td>SW-Dev3</td>\n",
       "<td>Software Developer 3</td></tr><tr><td>Web-Dev1</td>\n",
       "<td>Web Developer 1</td></tr><tr><td>Web-Dev2</td>\n",
       "<td>Web Developer 2</td></tr><tr><td>Web-Dev3</td>\n",
       "<td>Web Developer 3</td> </tr> </tbody>\n",
       "        </table>\n",
       "        \n",
       "        <p>Total: 7</p></div>\n",
       "        "
      ],
      "text/plain": [
       "*title_code    full_title    \n",
       "+------------+ +------------+\n",
       "HR-Mgr         Human Resource\n",
       "SW-Dev1        Software Devel\n",
       "SW-Dev2        Software Devel\n",
       "SW-Dev3        Software Devel\n",
       "Web-Dev1       Web Developer \n",
       "Web-Dev2       Web Developer \n",
       "Web-Dev3       Web Developer \n",
       " (Total: 7)"
      ]
     },
     "execution_count": 3,
     "metadata": {},
     "output_type": "execute_result"
    }
   ],
   "source": [
    "Title()"
   ]
  },
  {
   "cell_type": "code",
   "execution_count": 4,
   "metadata": {},
   "outputs": [],
   "source": [
    "@schema\n",
    "class Person(dj.Manual):\n",
    "    definition = \"\"\"\n",
    "    person_id  :  int \n",
    "    ---\n",
    "    first_name : varchar(30)\n",
    "    last_name : varchar(30)\n",
    "    \"\"\""
   ]
  }
 ],
 "metadata": {
  "kernelspec": {
   "display_name": "base",
   "language": "python",
   "name": "python3"
  },
  "language_info": {
   "codemirror_mode": {
    "name": "ipython",
    "version": 3
   },
   "file_extension": ".py",
   "mimetype": "text/x-python",
   "name": "python",
   "nbconvert_exporter": "python",
   "pygments_lexer": "ipython3",
   "version": "3.10.14"
  }
 },
 "nbformat": 4,
 "nbformat_minor": 2
}
